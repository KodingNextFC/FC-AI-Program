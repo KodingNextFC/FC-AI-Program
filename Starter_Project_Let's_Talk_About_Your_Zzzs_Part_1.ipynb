{
  "nbformat": 4,
  "nbformat_minor": 0,
  "metadata": {
    "colab": {
      "provenance": [],
      "authorship_tag": "ABX9TyPaMMb4DYCfu+qYkgTKv0Sl",
      "include_colab_link": true
    },
    "kernelspec": {
      "name": "python3",
      "display_name": "Python 3"
    },
    "language_info": {
      "name": "python"
    }
  },
  "cells": [
    {
      "cell_type": "markdown",
      "metadata": {
        "id": "view-in-github",
        "colab_type": "text"
      },
      "source": [
        "<a href=\"https://colab.research.google.com/github/KodingNextFC/FC-AI-Program/blob/main/Starter_Project_Let's_Talk_About_Your_Zzzs_Part_1.ipynb\" target=\"_parent\"><img src=\"https://colab.research.google.com/assets/colab-badge.svg\" alt=\"Open In Colab\"/></a>"
      ]
    },
    {
      "cell_type": "markdown",
      "source": [
        "#1.Data Understanding"
      ],
      "metadata": {
        "id": "BzajCTi1whuK"
      }
    },
    {
      "cell_type": "markdown",
      "source": [
        "##1.1 Load the Dataset"
      ],
      "metadata": {
        "id": "YrD-XkyRxKmS"
      }
    },
    {
      "cell_type": "markdown",
      "source": [
        "**Dataset Columns:**\n",
        "\n",
        "Person ID: An identifier for each individual.\n",
        "\n",
        "Gender: The gender of the person (Male/Female).\n",
        "\n",
        "Age: The age of the person in years.\n",
        "\n",
        "Occupation: The occupation or profession of the person.\n",
        "\n",
        "Sleep Duration (hours): The number of hours the person sleeps per day.\n",
        "\n",
        "Quality of Sleep (scale: 1-10): A subjective rating of the quality of sleep, ranging from 1 to 10.\n",
        "\n",
        "Physical Activity Level (minutes/day): The number of minutes the person engages in physical activity daily.\n",
        "\n",
        "Stress Level (scale: 1-10): A subjective rating of the stress level experienced by the person, ranging from 1 to 10.\n",
        "\n",
        "BMI Category: The BMI category of the person (e.g., Underweight, Normal, Overweight).\n",
        "\n",
        "Blood Pressure (systolic/diastolic): The blood pressure measurement of the person, indicated as systolic pressure over diastolic pressure.\n",
        "\n",
        "Heart Rate (bpm): The resting heart rate of the person in beats per minute.\n",
        "\n",
        "Daily Steps: The number of steps the person takes per day.\n",
        "\n",
        "Sleep Disorder: The presence or absence of a sleep disorder in the person (None, Insomnia, Sleep Apnea).\n"
      ],
      "metadata": {
        "id": "quHJKUv-6fQE"
      }
    },
    {
      "cell_type": "markdown",
      "source": [
        "**Details about Sleep Disorder Column:**\n",
        "\n",
        "**None**: The individual does not exhibit any specific sleep disorder.\n",
        "\n",
        "**Insomnia**: The individual experiences difficulty falling asleep or staying asleep, leading to inadequate or poor-quality sleep.\n",
        "\n",
        "**Sleep Apnea**: The individual suffers from pauses in breathing during sleep, resulting in disrupted sleep patterns and potential health risks."
      ],
      "metadata": {
        "id": "QyCLkZC5bTwE"
      }
    },
    {
      "cell_type": "code",
      "source": [
        "import pandas as pd\n",
        "url = \"https://drive.google.com/uc?export=download&id=1F7V52hhO7_INXYj-DscSKVxDm2juupn8\"\n",
        "df = pd.read_csv(url)\n",
        "df.head(5)"
      ],
      "metadata": {
        "id": "64vZiZ-xwkjo"
      },
      "execution_count": null,
      "outputs": []
    },
    {
      "cell_type": "markdown",
      "source": [
        "##1.2 Features (Columns)"
      ],
      "metadata": {
        "id": "KneRvG9wxQ0i"
      }
    },
    {
      "cell_type": "markdown",
      "source": [
        "What are the features (columns) of the dataset?"
      ],
      "metadata": {
        "id": "9CHIf0zfxeqr"
      }
    },
    {
      "cell_type": "code",
      "source": [
        "#Column list"
      ],
      "metadata": {
        "id": "L1spK_fQxQL2"
      },
      "execution_count": null,
      "outputs": []
    },
    {
      "cell_type": "markdown",
      "source": [
        "##1.3 Data Info"
      ],
      "metadata": {
        "id": "4Q7wBqbUy9Ne"
      }
    },
    {
      "cell_type": "markdown",
      "source": [
        "What is the shape of the dataset, how many rows does it have, and what are the data types of the columns?"
      ],
      "metadata": {
        "id": "scOQ5CM2y9uC"
      }
    },
    {
      "cell_type": "code",
      "source": [
        "#Shape"
      ],
      "metadata": {
        "id": "zD7Q3UX6y92p"
      },
      "execution_count": null,
      "outputs": []
    },
    {
      "cell_type": "code",
      "source": [
        "#Info"
      ],
      "metadata": {
        "id": "GeyCIB5TzXf5"
      },
      "execution_count": null,
      "outputs": []
    },
    {
      "cell_type": "markdown",
      "source": [
        "#2.Handling Missing Values"
      ],
      "metadata": {
        "id": "gUNqBMBbxZDC"
      }
    },
    {
      "cell_type": "markdown",
      "source": [
        "Are there any missing values in the dataset?"
      ],
      "metadata": {
        "id": "J3rx5MA5xv62"
      }
    },
    {
      "cell_type": "code",
      "source": [
        "#Missing Values"
      ],
      "metadata": {
        "id": "iCzvSEsIxVOX"
      },
      "execution_count": null,
      "outputs": []
    },
    {
      "cell_type": "code",
      "source": [
        "#Sleep Disorder Value Counts"
      ],
      "metadata": {
        "id": "sbw7kGEIECFr"
      },
      "execution_count": null,
      "outputs": []
    },
    {
      "cell_type": "markdown",
      "source": [
        "How to handle this missing values?\n",
        "\n",
        "Answer here"
      ],
      "metadata": {
        "id": "6TVPz3k0AKfH"
      }
    },
    {
      "cell_type": "code",
      "source": [
        "#Handling missing values"
      ],
      "metadata": {
        "id": "yJTuCz09Ahg7"
      },
      "execution_count": null,
      "outputs": []
    },
    {
      "cell_type": "code",
      "source": [
        "#Check: Sleep Disorder Value Counts"
      ],
      "metadata": {
        "id": "UWMSejlWFTwU"
      },
      "execution_count": 1,
      "outputs": []
    },
    {
      "cell_type": "markdown",
      "source": [
        "#3.Feature Selection"
      ],
      "metadata": {
        "id": "djLqCZgyArdx"
      }
    },
    {
      "cell_type": "markdown",
      "source": [
        "In this step, we will select the features and the label:\n",
        "\n",
        "*   Features: The columns that will be used to predict the label.\n",
        "\n",
        "*   Label: The target column or class that we want to predict."
      ],
      "metadata": {
        "id": "qCMJ6kKMA9qZ"
      }
    },
    {
      "cell_type": "markdown",
      "source": [
        "Please choose label and features!"
      ],
      "metadata": {
        "id": "dYGlzffhBR5G"
      }
    },
    {
      "cell_type": "markdown",
      "source": [
        "**Label** : answer here\n",
        "\n",
        "**Features** : answer here"
      ],
      "metadata": {
        "id": "xuegB3mCCzKe"
      }
    },
    {
      "cell_type": "code",
      "source": [
        "#Features\n",
        "x =\n",
        "\n",
        "#Label\n",
        "y ="
      ],
      "metadata": {
        "id": "IgXTK2pdArrS"
      },
      "execution_count": null,
      "outputs": []
    },
    {
      "cell_type": "markdown",
      "source": [
        "#4.Data Preprocessing"
      ],
      "metadata": {
        "id": "dOrd50UBKvvQ"
      }
    },
    {
      "cell_type": "markdown",
      "source": [
        "##4.1 Reduced One-Hot Encoding"
      ],
      "metadata": {
        "id": "PPAdkMKKRfma"
      }
    },
    {
      "cell_type": "markdown",
      "source": [
        "Next, we will convert the categorical data into numbers using reduced one-hot encoding. This will turn each category into a separate column with 0s and 1s, and we’ll remove the first category to avoid repeating information."
      ],
      "metadata": {
        "id": "HpzgTXMSLSKW"
      }
    },
    {
      "cell_type": "code",
      "source": [],
      "metadata": {
        "id": "1umcotbAKv3D"
      },
      "execution_count": null,
      "outputs": []
    },
    {
      "cell_type": "markdown",
      "source": [
        "##4.2 Mapping the Label"
      ],
      "metadata": {
        "id": "aUIP-VwZRnLE"
      }
    },
    {
      "cell_type": "markdown",
      "source": [
        "0 : None\n",
        "\n",
        "1 : Insomnia\n",
        "\n",
        "2: Sleep Apnea"
      ],
      "metadata": {
        "id": "pQtq1oaIUPZM"
      }
    },
    {
      "cell_type": "code",
      "source": [],
      "metadata": {
        "id": "ZNivV9qkRpsg"
      },
      "execution_count": null,
      "outputs": []
    },
    {
      "cell_type": "markdown",
      "source": [
        "#5.Splitting Dataset"
      ],
      "metadata": {
        "id": "IUDFlkpGF020"
      }
    },
    {
      "cell_type": "code",
      "source": [
        "from sklearn.model_selection import train_test_split\n",
        "\n",
        "# Splitting the dataset into training (80%) and testing (20%) sets\n",
        "# The train_test_split function randomly splits your dataset into training and testing sets.\n",
        "# If you don’t set random_state, it will split the data differently each time you run the code.\n",
        "# Setting random_state=42 ensures that the split is always the same every time you run the code.\n",
        "\n"
      ],
      "metadata": {
        "id": "BYNgAhxGFYza"
      },
      "execution_count": null,
      "outputs": []
    }
  ]
}