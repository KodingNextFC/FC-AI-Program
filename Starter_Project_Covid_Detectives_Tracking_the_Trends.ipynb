{
  "nbformat": 4,
  "nbformat_minor": 0,
  "metadata": {
    "colab": {
      "provenance": [],
      "authorship_tag": "ABX9TyODpJmTk4wg6OjIaUOgE4Nz",
      "include_colab_link": true
    },
    "kernelspec": {
      "name": "python3",
      "display_name": "Python 3"
    },
    "language_info": {
      "name": "python"
    }
  },
  "cells": [
    {
      "cell_type": "markdown",
      "metadata": {
        "id": "view-in-github",
        "colab_type": "text"
      },
      "source": [
        "<a href=\"https://colab.research.google.com/github/KodingNextFC/FC-AI-Program/blob/main/Starter_Project_Covid_Detectives_Tracking_the_Trends.ipynb\" target=\"_parent\"><img src=\"https://colab.research.google.com/assets/colab-badge.svg\" alt=\"Open In Colab\"/></a>"
      ]
    },
    {
      "cell_type": "markdown",
      "source": [
        "#1.Data Understanding"
      ],
      "metadata": {
        "id": "BzajCTi1whuK"
      }
    },
    {
      "cell_type": "markdown",
      "source": [
        "##1.1 Load the Dataset"
      ],
      "metadata": {
        "id": "YrD-XkyRxKmS"
      }
    },
    {
      "cell_type": "markdown",
      "source": [
        "A global COVID dataset updated as of January 22, 2020.\n",
        "\n",
        "Data Source:\n",
        "\n",
        "https://github.com/CSSEGISandData/COVID-19\n",
        "\n",
        "https://www.worldometers.info/"
      ],
      "metadata": {
        "id": "quHJKUv-6fQE"
      }
    },
    {
      "cell_type": "code",
      "source": [
        "import pandas as pd\n",
        "url = \"https://drive.google.com/uc?export=download&id=1bIOL8GlNxfK3_MM-e_XHrs0DdlQWOFgP\"\n",
        "df = pd.read_csv(url)\n",
        "df.head(5)"
      ],
      "metadata": {
        "id": "64vZiZ-xwkjo"
      },
      "execution_count": null,
      "outputs": []
    },
    {
      "cell_type": "markdown",
      "source": [
        "##1.2 Features (Columns)"
      ],
      "metadata": {
        "id": "KneRvG9wxQ0i"
      }
    },
    {
      "cell_type": "markdown",
      "source": [
        "What are the features (columns) of the dataset?"
      ],
      "metadata": {
        "id": "9CHIf0zfxeqr"
      }
    },
    {
      "cell_type": "code",
      "source": [
        "#Column list"
      ],
      "metadata": {
        "id": "L1spK_fQxQL2"
      },
      "execution_count": null,
      "outputs": []
    },
    {
      "cell_type": "markdown",
      "source": [
        "##1.3 Data Info"
      ],
      "metadata": {
        "id": "4Q7wBqbUy9Ne"
      }
    },
    {
      "cell_type": "markdown",
      "source": [
        "What is the shape of the dataset, how many rows does it have, and what are the data types of the columns?"
      ],
      "metadata": {
        "id": "scOQ5CM2y9uC"
      }
    },
    {
      "cell_type": "code",
      "source": [
        "#Shape of the dataset"
      ],
      "metadata": {
        "id": "zD7Q3UX6y92p"
      },
      "execution_count": null,
      "outputs": []
    },
    {
      "cell_type": "code",
      "source": [
        "#Dataset Info"
      ],
      "metadata": {
        "id": "GeyCIB5TzXf5"
      },
      "execution_count": null,
      "outputs": []
    },
    {
      "cell_type": "markdown",
      "source": [
        "##1.4 Missing Values"
      ],
      "metadata": {
        "id": "gUNqBMBbxZDC"
      }
    },
    {
      "cell_type": "markdown",
      "source": [
        "Are there any missing values in the dataset?"
      ],
      "metadata": {
        "id": "J3rx5MA5xv62"
      }
    },
    {
      "cell_type": "code",
      "source": [
        "#Sum of Missing Values"
      ],
      "metadata": {
        "id": "iCzvSEsIxVOX"
      },
      "execution_count": null,
      "outputs": []
    },
    {
      "cell_type": "markdown",
      "source": [
        "#2.Data Analysis and Visualization"
      ],
      "metadata": {
        "id": "xCAaTS6ay1Vk"
      }
    },
    {
      "cell_type": "markdown",
      "source": [
        "Please answer all the questions below to help guide you through analyzing the road traffic accident data and COVID-19 data worldwide as of January 22, 2020. These questions are designed to help you understand key trends, patterns, and insights, with a focus on COVID-19."
      ],
      "metadata": {
        "id": "BO1xh2sE5-tO"
      }
    },
    {
      "cell_type": "markdown",
      "source": [
        "##2.1 Top 5 Countries with The Most Confirmed Cases\n",
        "\n"
      ],
      "metadata": {
        "id": "EBfU40uq-x6n"
      }
    },
    {
      "cell_type": "markdown",
      "source": [
        "1. Sorts the data in descending order of recoveries (Confirmed) and retrieves the top 5 countries using .head(5).\n",
        "\n",
        "2. Create a barplot using sns.barplot and highlight the highest confirmed cases country using blue color."
      ],
      "metadata": {
        "id": "HV-JX3WjDCFN"
      }
    },
    {
      "cell_type": "code",
      "source": [
        "# Step 1: Import required libraries\n",
        "import matplotlib.pyplot as plt  # for plotting\n",
        "import seaborn as sns          # for advanced plots\n",
        "\n",
        "# Step 2: Prepare the dataset (assuming `df` contains 'Country/Region' and 'Confirmed')\n",
        "top_5_confirmed = df[['Country/Region', 'Confirmed']].sort_values(by='Confirmed', ascending=False).head(5)\n",
        "\n",
        "# Step 3: Print top 5 countries\n",
        "print(\"Top 5 countries with the most confirmed cases:\")\n",
        "print(top_5_confirmed)\n",
        "\n",
        "# Step 4: Set up the plot size\n",
        "plt.figure(figsize=(10, 6))\n",
        "\n",
        "# Step 5: Prepare data for plotting\n",
        "x_data = top_5_confirmed['']\n",
        "y_data = top_5_confirmed['']\n",
        "max_index = y_data.idxmax()  # find country with the highest confirmed cases\n",
        "\n",
        "# Step 6: Create bar plot\n",
        "sns.barplot(x=x_data, y=y_data, color='gray')\n",
        "\n",
        "# Step 7: Highlight the maximum confirmed cases bar with blue color\n",
        "plt.bar(x_data[max_index], y_data[max_index], color='')\n",
        "\n",
        "# Step 8: Customize and display the plot\n",
        "plt.title(\"Top 5 Countries with Most Confirmed Cases\")\n",
        "plt.xlabel(\"Countries\")\n",
        "plt.ylabel(\"Confirmed Cases\")\n",
        "plt.show()"
      ],
      "metadata": {
        "id": "U-vQc26Uy0s9"
      },
      "execution_count": null,
      "outputs": []
    },
    {
      "cell_type": "markdown",
      "source": [
        "##2.2 Top 5 Countries with The Highest Recovery Cases\n",
        "\n"
      ],
      "metadata": {
        "id": "xuyZjqIK-1LG"
      }
    },
    {
      "cell_type": "markdown",
      "source": [
        "1. Sorts the data in descending order of recoveries (Recovered) and retrieves the top 5 countries using .head(5).\n",
        "\n",
        "2. Create a barplot using sns.barplot and highlight the highest recovery country using green color."
      ],
      "metadata": {
        "id": "F04NQx4UC1nb"
      }
    },
    {
      "cell_type": "code",
      "source": [
        "# Step 1: Import required libraries\n",
        "import matplotlib.pyplot as plt  # for plotting\n",
        "import seaborn as sns          # for advanced plots\n",
        "\n",
        "# Step 2: Prepare the dataset (assuming `df` contains 'Country/Region' and 'Recovered')\n",
        "top_5_recovered =\n",
        "\n",
        "# Step 3: Print top 5 countries\n",
        "print(\"Top 5 countries with the most recovery cases:\")\n",
        "print(top_5_recovered)\n",
        "\n",
        "# Step 4: Set up the plot size\n",
        "plt.figure(figsize=(10, 6))\n",
        "\n",
        "# Step 5: Prepare data for plotting\n",
        "x_data =\n",
        "y_data =\n",
        "max_index = y_data.idxmax()  # find country with the highest recovery\n",
        "\n",
        "# Step 6: Create bar plot with color 'gray'\n",
        "\n",
        "\n",
        "# Step 7: Highlight the maximum recovery bar\n",
        "\n",
        "\n",
        "# Step 8: Customize and display the plot\n",
        "plt.title(\"Top 5 Countries with Most Recovery Cases\")\n",
        "plt.xlabel(\"Countries\")\n",
        "plt.ylabel(\"Recovery Cases\")\n",
        "plt.show()\n",
        "\n"
      ],
      "metadata": {
        "id": "GpxqsmT9xcXy"
      },
      "execution_count": null,
      "outputs": []
    },
    {
      "cell_type": "markdown",
      "source": [
        "##2.3 Top 5 Countries with The Highest Death Rate"
      ],
      "metadata": {
        "id": "Ch-HF-8s-4BH"
      }
    },
    {
      "cell_type": "markdown",
      "source": [
        "1. Calculates the death rate (%) for each country as:\n",
        "\n",
        "Death Rate (%) = (Deaths / Confirmed) * 100\n",
        "\n",
        "\n",
        "2. Then, it identifies the top 5 countries with the highest death rates by sorting the countries by the Death Rate (%) in descending order.\n",
        "\n",
        "3. Selecting the top 5 rows using .head(5)."
      ],
      "metadata": {
        "id": "gzqPqCXSB6sq"
      }
    },
    {
      "cell_type": "code",
      "source": [
        "# Step 1: Import required libraries\n",
        "import matplotlib.pyplot as plt  # for plotting\n",
        "import seaborn as sns          # for advanced plots\n",
        "\n",
        "# Step 2: Calculate the death rate (%) and prepare the dataset\n",
        "# Death rate is calculated as (Deaths / Confirmed) * 100\n",
        "df['Death Rate (%)'] = (df['Deaths'] / df['Confirmed']) * 100\n",
        "\n",
        "# Sort and select the top 5 countries with the highest death rate\n",
        "top_5_death_rate =\n",
        "\n",
        "# Step 3: Print top 5 countries\n",
        "\n",
        "\n",
        "# Step 4: Set up the plot size\n",
        "\n",
        "\n",
        "# Step 5: Prepare data for plotting\n",
        "x_data =\n",
        "y_data =\n",
        "max_index = y_data.idxmax()  # find country with the highest death rate\n",
        "\n",
        "# Step 6: Create bar plot\n",
        "\n",
        "# Step 7: Highlight the maximum death rate bar\n",
        "plt.bar(x_data[max_index], y_data[max_index], color='red')\n",
        "\n",
        "# Step 8: Customize and display the plot\n"
      ],
      "metadata": {
        "id": "YVFztvxk-6St"
      },
      "execution_count": null,
      "outputs": []
    }
  ]
}