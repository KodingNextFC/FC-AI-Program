{
  "nbformat": 4,
  "nbformat_minor": 0,
  "metadata": {
    "colab": {
      "provenance": [],
      "toc_visible": true,
      "authorship_tag": "ABX9TyM0AdJx4I7ixc/UP5MfAT7B",
      "include_colab_link": true
    },
    "kernelspec": {
      "name": "python3",
      "display_name": "Python 3"
    },
    "language_info": {
      "name": "python"
    }
  },
  "cells": [
    {
      "cell_type": "markdown",
      "metadata": {
        "id": "view-in-github",
        "colab_type": "text"
      },
      "source": [
        "<a href=\"https://colab.research.google.com/github/KodingNextFC/FC-AI-Program/blob/main/Mission_1__Who's_on_the_Road%3F_%F0%9F%9A%97.ipynb\" target=\"_parent\"><img src=\"https://colab.research.google.com/assets/colab-badge.svg\" alt=\"Open In Colab\"/></a>"
      ]
    },
    {
      "cell_type": "markdown",
      "source": [
        "# Dataset"
      ],
      "metadata": {
        "id": "dmDSpo6JDjRy"
      }
    },
    {
      "cell_type": "markdown",
      "source": [
        "## Import Libraries"
      ],
      "metadata": {
        "id": "2MU22hK5hLhT"
      }
    },
    {
      "cell_type": "code",
      "execution_count": null,
      "metadata": {
        "id": "Lof-gRuDDMQD"
      },
      "outputs": [],
      "source": [
        "import pandas as pd"
      ]
    },
    {
      "cell_type": "markdown",
      "source": [
        "## Load the Dataset"
      ],
      "metadata": {
        "id": "-vZ8KT9EDoMI"
      }
    },
    {
      "cell_type": "code",
      "source": [
        "url = \"https://drive.google.com/uc?export=download&id=1xoNhU-QjTp30RpTPKWxhf358Sp-eU83Y\"\n",
        "df = pd.read_csv(url)\n",
        "#df.head(20)\n",
        "#df.tail(5)\n",
        "#df.sample(10)"
      ],
      "metadata": {
        "id": "Ct0dIihUK57N"
      },
      "execution_count": null,
      "outputs": []
    },
    {
      "cell_type": "markdown",
      "source": [
        "## Feature Descriptions\n",
        "\n",
        "\n",
        "\n"
      ],
      "metadata": {
        "id": "eKXTsg9CDrtZ"
      }
    },
    {
      "cell_type": "markdown",
      "source": [
        "\n",
        "Context\n",
        "\n",
        "> This data set is collected from Addis Ababa Sub city police departments for Masters research work.\n",
        "\n",
        "\n",
        "Content\n",
        "\n",
        "> The data set has been prepared from manual records of road traffic accident of the year 2017-20. All the sensitive information have been excluded during data encoding and finally it has 32 features and 12316 instances of the accident. Then it is preprocessed and for identification of major causes of the accident by analyzing it using different machine learning classification algorithms algorithms.\n",
        "\n",
        "\n",
        "\n"
      ],
      "metadata": {
        "id": "LPCWbkA6NLFU"
      }
    },
    {
      "cell_type": "markdown",
      "source": [
        "Features Description\n",
        "\n",
        ">Age_band_of_driver: Groups drivers by age.\n",
        "\n",
        "> Sex_of_driver: Indicates driver's gender.\n",
        "\n",
        "> Educational_level: Records driver's education level.\n",
        "\n",
        "> Vehicle_driver_relation: Defines driver-vehicle relationship.\n",
        "\n",
        "> Driving_experience: Captures years of driving experience.\n",
        "\n",
        "> Lanes_or_Medians: Specifies if lanes or medians are present.\n",
        "\n",
        "> Types_of_Junction: Describes type of junction.\n",
        "\n",
        "> Road_surface_type: Identifies road surface type.\n",
        "\n",
        "> Light_conditions: Records lighting conditions.\n",
        "\n",
        "> Weather_conditions: Describes weather during the accident.\n",
        "\n",
        "> Type_of_collision: Categorizes collision type.\n",
        "\n",
        "> Vehicle_movement: Describes vehicle movement.\n",
        "\n",
        "> Pedestrian_movement: Indicates pedestrian movement.\n",
        "\n",
        "> Cause_of_accident: Lists cause of the accident.\n",
        "\n",
        "> Accident_severity: Rates accident severity as 0, 1, or 2, where higher numbers indicate more severity."
      ],
      "metadata": {
        "id": "c7fPaOJkfi5x"
      }
    },
    {
      "cell_type": "markdown",
      "source": [
        "# Mission 1: Who's on The Road?🚗"
      ],
      "metadata": {
        "id": "IzfETOsxbD1W"
      }
    },
    {
      "cell_type": "markdown",
      "source": [
        "Please answer all the questions below to help guide you through analyzing the road traffic accident data. These questions are designed to help you understand key trends, patterns, and insights, focusing specifically on the factors contributing to accidents and their severity."
      ],
      "metadata": {
        "id": "WcClSt35yIns"
      }
    },
    {
      "cell_type": "markdown",
      "source": [
        "## What column will you use to answer Mission 1's question?\n",
        "Let's find out the columns list in our dataset."
      ],
      "metadata": {
        "id": "blM4ZqpFuHEc"
      }
    },
    {
      "cell_type": "code",
      "source": [
        "df.columns"
      ],
      "metadata": {
        "id": "k5nK5imCbJbY"
      },
      "execution_count": null,
      "outputs": []
    },
    {
      "cell_type": "code",
      "source": [
        "# value_counts() in pandas counts unique values in a column and sorts them by frequency.\n"
      ],
      "metadata": {
        "id": "8ypjVWGYubql"
      },
      "execution_count": null,
      "outputs": []
    },
    {
      "cell_type": "markdown",
      "source": [
        "## Who has more accidents, men or women?"
      ],
      "metadata": {
        "id": "fFK9WgaAvUK4"
      }
    },
    {
      "cell_type": "code",
      "source": [
        "#Your answer here\n"
      ],
      "metadata": {
        "id": "68zG8AHPvLQ9"
      },
      "execution_count": null,
      "outputs": []
    }
  ]
}