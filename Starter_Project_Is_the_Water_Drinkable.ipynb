{
  "nbformat": 4,
  "nbformat_minor": 0,
  "metadata": {
    "colab": {
      "provenance": [],
      "authorship_tag": "ABX9TyMf5UtLQprp8GCJ0i8o+P55",
      "include_colab_link": true
    },
    "kernelspec": {
      "name": "python3",
      "display_name": "Python 3"
    },
    "language_info": {
      "name": "python"
    }
  },
  "cells": [
    {
      "cell_type": "markdown",
      "metadata": {
        "id": "view-in-github",
        "colab_type": "text"
      },
      "source": [
        "<a href=\"https://colab.research.google.com/github/KodingNextFC/FC-AI-Program/blob/main/Starter_Project_Is_the_Water_Drinkable.ipynb\" target=\"_parent\"><img src=\"https://colab.research.google.com/assets/colab-badge.svg\" alt=\"Open In Colab\"/></a>"
      ]
    },
    {
      "cell_type": "markdown",
      "source": [
        "#1.Data Understanding"
      ],
      "metadata": {
        "id": "tcGaMoi3yHbA"
      }
    },
    {
      "cell_type": "markdown",
      "source": [
        "Access to safe drinking-water is essential to health, a basic human right and a component of effective policy for health protection. This is important as a health and development issue at a national, regional and local level. In some regions, it has been shown that investments in water supply and sanitation can yield a net economic benefit, since the reductions in adverse health effects and health care costs outweigh the costs of undertaking the interventions.\n",
        "\n",
        "\n",
        "The water_potability.csv file contains water quality metrics for 3276 different water bodies.\n",
        "\n",
        "**1. pH value:**\n",
        "PH is an important parameter in evaluating the acid–base balance of water. It is also the indicator of acidic or alkaline condition of water status. WHO has recommended maximum permissible limit of pH from 6.5 to 8.5. The current investigation ranges were 6.52–6.83 which are in the range of WHO standards.\n",
        "\n",
        "**2. Hardness:**\n",
        "Hardness is mainly caused by calcium and magnesium salts. These salts are dissolved from geologic deposits through which water travels. The length of time water is in contact with hardness producing material helps determine how much hardness there is in raw water. Hardness was originally defined as the capacity of water to precipitate soap caused by Calcium and Magnesium.\n",
        "\n",
        "**3. Solids (Total dissolved solids - TDS):**\n",
        "Water has the ability to dissolve a wide range of inorganic and some organic minerals or salts such as potassium, calcium, sodium, bicarbonates, chlorides, magnesium, sulfates etc. These minerals produced un-wanted taste and diluted color in appearance of water. This is the important parameter for the use of water. The water with high TDS value indicates that water is highly mineralized. Desirable limit for TDS is 500 mg/l and maximum limit is 1000 mg/l which prescribed for drinking purpose.\n",
        "\n",
        "**4. Chloramines:**\n",
        "Chlorine and chloramine are the major disinfectants used in public water systems. Chloramines are most commonly formed when ammonia is added to chlorine to treat drinking water. Chlorine levels up to 4 milligrams per liter (mg/L or 4 parts per million (ppm)) are considered safe in drinking water.\n",
        "\n",
        "**5. Sulfate:**\n",
        "Sulfates are naturally occurring substances that are found in minerals, soil, and rocks. They are present in ambient air, groundwater, plants, and food. The principal commercial use of sulfate is in the chemical industry. Sulfate concentration in seawater is about 2,700 milligrams per liter (mg/L). It ranges from 3 to 30 mg/L in most freshwater supplies, although much higher concentrations (1000 mg/L) are found in some geographic locations.\n",
        "\n",
        "**6. Conductivity:**\n",
        "Pure water is not a good conductor of electric current rather’s a good insulator. Increase in ions concentration enhances the electrical conductivity of water. Generally, the amount of dissolved solids in water determines the electrical conductivity. Electrical conductivity (EC) actually measures the ionic process of a solution that enables it to transmit current. According to WHO standards, EC value should not exceeded 400 μS/cm.\n",
        "\n",
        "**7. Organic_carbon:**\n",
        "Total Organic Carbon (TOC) in source waters comes from decaying natural organic matter (NOM) as well as synthetic sources. TOC is a measure of the total amount of carbon in organic compounds in pure water. According to US EPA < 2 mg/L as TOC in treated / drinking water, and < 4 mg/Lit in source water which is use for treatment.\n",
        "\n",
        "**8. Trihalomethanes:**\n",
        "THMs are chemicals which may be found in water treated with chlorine. The concentration of THMs in drinking water varies according to the level of organic material in the water, the amount of chlorine required to treat the water, and the temperature of the water that is being treated. THM levels up to 80 ppm is considered safe in drinking water.\n",
        "\n",
        "**9. Turbidity:**\n",
        "The turbidity of water depends on the quantity of solid matter present in the suspended state. It is a measure of light emitting properties of water and the test is used to indicate the quality of waste discharge with respect to colloidal matter. The mean turbidity value obtained for Wondo Genet Campus (0.98 NTU) is lower than the WHO recommended value of 5.00 NTU.\n",
        "\n",
        "**10. Potability:**\n",
        "Indicates if water is safe for human consumption where 1 means Potable and 0 means Not potable."
      ],
      "metadata": {
        "id": "8ylc6n9gyN4I"
      }
    },
    {
      "cell_type": "code",
      "execution_count": null,
      "metadata": {
        "id": "jULJo4REvFTW"
      },
      "outputs": [],
      "source": [
        "import pandas as pd\n",
        "url = \"https://drive.google.com/uc?export=download&id=1n0a2hgTll0AiOKq0ylrZvIyPQG2AKNwp\"\n",
        "df = pd.read_csv(url)\n",
        "df.sample(5)"
      ]
    },
    {
      "cell_type": "markdown",
      "source": [
        "What are the features (columns) of the dataset?"
      ],
      "metadata": {
        "id": "sS4UKFM_piTp"
      }
    },
    {
      "cell_type": "code",
      "source": [],
      "metadata": {
        "id": "EOXRrIyjyQEv"
      },
      "execution_count": null,
      "outputs": []
    },
    {
      "cell_type": "markdown",
      "source": [
        "What is the shape of the dataset, how many rows does it have, and what are the data types of the columns?"
      ],
      "metadata": {
        "id": "P0FBOScupl3K"
      }
    },
    {
      "cell_type": "code",
      "source": [],
      "metadata": {
        "id": "eTznttX6L71c"
      },
      "execution_count": null,
      "outputs": []
    },
    {
      "cell_type": "code",
      "source": [],
      "metadata": {
        "id": "6vgoL69ML9Pf"
      },
      "execution_count": null,
      "outputs": []
    },
    {
      "cell_type": "markdown",
      "source": [
        "#2.Handling Missing Values"
      ],
      "metadata": {
        "id": "gUNqBMBbxZDC"
      }
    },
    {
      "cell_type": "markdown",
      "source": [
        "Are there any missing values in the dataset?"
      ],
      "metadata": {
        "id": "J3rx5MA5xv62"
      }
    },
    {
      "cell_type": "code",
      "source": [],
      "metadata": {
        "id": "iCzvSEsIxVOX"
      },
      "execution_count": null,
      "outputs": []
    },
    {
      "cell_type": "code",
      "source": [],
      "metadata": {
        "id": "yJTuCz09Ahg7"
      },
      "execution_count": null,
      "outputs": []
    },
    {
      "cell_type": "code",
      "source": [],
      "metadata": {
        "id": "UWMSejlWFTwU"
      },
      "execution_count": null,
      "outputs": []
    },
    {
      "cell_type": "markdown",
      "source": [
        "#3.Feature Selection"
      ],
      "metadata": {
        "id": "djLqCZgyArdx"
      }
    },
    {
      "cell_type": "markdown",
      "source": [
        "In this step, we will select the features and the label:\n",
        "\n",
        "*   Features: The columns that will be used to predict the label.\n",
        "\n",
        "*   Label: The target column or class that we want to predict."
      ],
      "metadata": {
        "id": "qCMJ6kKMA9qZ"
      }
    },
    {
      "cell_type": "markdown",
      "source": [
        "Let's start with the label. Since we want to predict the sleep disorder, the label will be 'Sleep Disorder'. The remaining columns can be used as features. However, it's better to drop unimportant columns, like 'Person ID', as they don't contribute to the prediction."
      ],
      "metadata": {
        "id": "dYGlzffhBR5G"
      }
    },
    {
      "cell_type": "markdown",
      "source": [
        "**Label** : 'Potability'\n",
        "\n",
        "> 0 : Not Potable\n",
        "\n",
        "\n",
        "> 1 : Potable\n",
        "\n",
        "\n",
        "**Features** : All column except 'Potability'"
      ],
      "metadata": {
        "id": "xuegB3mCCzKe"
      }
    },
    {
      "cell_type": "code",
      "source": [],
      "metadata": {
        "id": "ta5IvW_TedC0"
      },
      "execution_count": null,
      "outputs": []
    },
    {
      "cell_type": "code",
      "source": [],
      "metadata": {
        "id": "IgXTK2pdArrS"
      },
      "execution_count": null,
      "outputs": []
    },
    {
      "cell_type": "code",
      "source": [],
      "metadata": {
        "id": "3maEGLMaEfvv"
      },
      "execution_count": null,
      "outputs": []
    },
    {
      "cell_type": "code",
      "source": [],
      "metadata": {
        "id": "__iCqd3SEigP"
      },
      "execution_count": null,
      "outputs": []
    },
    {
      "cell_type": "markdown",
      "source": [
        "#4.Data Splitting"
      ],
      "metadata": {
        "id": "9b4udXqKOaE6"
      }
    },
    {
      "cell_type": "code",
      "source": [],
      "metadata": {
        "id": "ZLS9oq9bOaE7"
      },
      "execution_count": null,
      "outputs": []
    },
    {
      "cell_type": "markdown",
      "source": [
        "#5.Feature Importance"
      ],
      "metadata": {
        "id": "qCbrh8bXj4Sc"
      }
    },
    {
      "cell_type": "code",
      "source": [],
      "metadata": {
        "id": "2w4asBycj7t6"
      },
      "execution_count": null,
      "outputs": []
    },
    {
      "cell_type": "markdown",
      "source": [
        "#6.Data Scaling"
      ],
      "metadata": {
        "id": "tPIF3cq6jsdC"
      }
    },
    {
      "cell_type": "code",
      "source": [],
      "metadata": {
        "id": "BTELhxykjvlv"
      },
      "execution_count": null,
      "outputs": []
    },
    {
      "cell_type": "markdown",
      "source": [
        "#7.Training Model Using Decision Tree"
      ],
      "metadata": {
        "id": "q7YwHdEFI3nK"
      }
    },
    {
      "cell_type": "code",
      "source": [],
      "metadata": {
        "id": "qsDPmds1F-Ya"
      },
      "execution_count": null,
      "outputs": []
    },
    {
      "cell_type": "markdown",
      "source": [
        "#8.Is the Water Drinkable?"
      ],
      "metadata": {
        "id": "nuqnH3xDnmKT"
      }
    },
    {
      "cell_type": "code",
      "source": [],
      "metadata": {
        "id": "Yv9t-8udnoGq"
      },
      "execution_count": null,
      "outputs": []
    },
    {
      "cell_type": "code",
      "source": [],
      "metadata": {
        "id": "CGKe9uTcntOi"
      },
      "execution_count": null,
      "outputs": []
    },
    {
      "cell_type": "code",
      "source": [],
      "metadata": {
        "id": "N3guINNioYD6"
      },
      "execution_count": null,
      "outputs": []
    }
  ]
}