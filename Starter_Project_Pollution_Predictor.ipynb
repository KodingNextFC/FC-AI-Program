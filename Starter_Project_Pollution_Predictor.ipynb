{
  "nbformat": 4,
  "nbformat_minor": 0,
  "metadata": {
    "colab": {
      "provenance": [],
      "authorship_tag": "ABX9TyPHLYI/qS3NiqkN16dqKuWq",
      "include_colab_link": true
    },
    "kernelspec": {
      "name": "python3",
      "display_name": "Python 3"
    },
    "language_info": {
      "name": "python"
    }
  },
  "cells": [
    {
      "cell_type": "markdown",
      "metadata": {
        "id": "view-in-github",
        "colab_type": "text"
      },
      "source": [
        "<a href=\"https://colab.research.google.com/github/KodingNextFC/FC-AI-Program/blob/main/Starter_Project_Pollution_Predictor.ipynb\" target=\"_parent\"><img src=\"https://colab.research.google.com/assets/colab-badge.svg\" alt=\"Open In Colab\"/></a>"
      ]
    },
    {
      "cell_type": "markdown",
      "source": [
        "#1.Data Understanding"
      ],
      "metadata": {
        "id": "BzajCTi1whuK"
      }
    },
    {
      "cell_type": "markdown",
      "source": [
        "##1.1 Load the Dataset"
      ],
      "metadata": {
        "id": "YrD-XkyRxKmS"
      }
    },
    {
      "cell_type": "markdown",
      "source": [
        "Air Pollution is contamination of the indoor or outdoor environment by any chemical, physical or biological agent that modifies the natural characteristics of the atmosphere. Household combustion devices, motor vehicles, industrial facilities and forest fires are common sources of air pollution. Pollutants of major public health concern include particulate matter, carbon monoxide, ozone, nitrogen dioxide and sulfur dioxide. Outdoor and indoor air pollution cause respiratory and other diseases and are important sources of morbidity and mortality.\n",
        "\n",
        "This dataset provides geolocated information about the following pollutants:\n",
        "\n",
        "\n",
        "*   **Nitrogen Dioxide [NO2]** : Nitrogen Dioxide is one of the several nitrogen oxides. At the surface level, however, NO2 forms from cars, trucks and buses emissions, power plants and off-road equipment. Exposure over short periods can aggravate respiratory diseases, like asthma.\n",
        "\n",
        "\n",
        "*   **Ozone [O3]** : The Ozone molecule is harmful for outdoor air quality (if outside of the ozone layer). Differently from the good ozone located in the upper atmosphere, ground level ozone can provoke several health problems like chest pain, coughing, throat irritation and airway inflammation.\n",
        "\n",
        "\n",
        "*   **Carbon Monoxide [CO]** : Carbon Monoxide is a colorless and odorless gas. Outdoor, it is emitted in the air above all by cars, trucks and other vehicles or machineries that burn fossil fuels\n",
        "\n",
        "\n",
        "*   **Particulate Matter [PM2.5]** : Atmospheric Particulate Matter, also known as atmospheric aerosol particles, are complex mixtures of small solid and liquid matter that get into the air. If inhaled they can cause serious heart and lungs problem. PM2.5 refers to those particles with a diameter of 2.5 micrometers or less.\n",
        "\n"
      ],
      "metadata": {
        "id": "quHJKUv-6fQE"
      }
    },
    {
      "cell_type": "code",
      "source": [
        "import pandas as pd\n",
        "url = \"https://drive.google.com/uc?export=download&id=1cpeWL3axUyrMZeNlMHsLrqXJ4pxD9sW-\"\n",
        "df = pd.read_csv(url)\n",
        "df.sample(5)"
      ],
      "metadata": {
        "id": "64vZiZ-xwkjo"
      },
      "execution_count": null,
      "outputs": []
    },
    {
      "cell_type": "markdown",
      "source": [
        "##1.2 Features (Columns)"
      ],
      "metadata": {
        "id": "KneRvG9wxQ0i"
      }
    },
    {
      "cell_type": "markdown",
      "source": [
        "\n",
        "\n",
        "*   **Country**: Name of the country\n",
        "\n",
        "*   **City** : Name of the city\n",
        "\n",
        "*   **AQI Value** : Overall AQI value of the city\n",
        "\n",
        "*   **AQI Category**: Overall AQI category of the city\n",
        "\n",
        "*   **CO AQI Value**: AQI value of Carbon Monoxide of the city\n",
        "\n",
        "*   **CO AQI Category** : AQI category of Carbon Monoxide of the city\n",
        "\n",
        "*   **Ozone AQI Value**: AQI value of Ozone of the city\n",
        "\n",
        "*   **Ozone AQI Category** : AQI category of Ozone of the city\n",
        "\n",
        "*   **NO2 AQI Value** : AQI value of Nitrogen Dioxide of the city\n",
        "\n",
        "*  **NO2 AQI Category** : AQI category of Nitrogen Dioxide of the city\n",
        "\n",
        "*   **PM2.5 AQI Value** : AQI value of Particulate Matter with a diameter of 2.5 micrometers or less of the city\n",
        "\n",
        "*   **PM2.5 AQI Category** : AQI category of Particulate Matter with a diameter of 2.5 micrometers or less of the city\n",
        "\n",
        "\n",
        "These datas are collected from elichens.com\n",
        "\n"
      ],
      "metadata": {
        "id": "Uuc_-pvWUhVQ"
      }
    },
    {
      "cell_type": "markdown",
      "source": [
        "What are the features (columns) of the dataset?"
      ],
      "metadata": {
        "id": "9CHIf0zfxeqr"
      }
    },
    {
      "cell_type": "code",
      "source": [],
      "metadata": {
        "id": "L1spK_fQxQL2"
      },
      "execution_count": null,
      "outputs": []
    },
    {
      "cell_type": "markdown",
      "source": [
        "##1.3 Data Info"
      ],
      "metadata": {
        "id": "4Q7wBqbUy9Ne"
      }
    },
    {
      "cell_type": "markdown",
      "source": [
        "What is the shape of the dataset, how many rows does it have, and what are the data types of the columns?"
      ],
      "metadata": {
        "id": "scOQ5CM2y9uC"
      }
    },
    {
      "cell_type": "code",
      "source": [],
      "metadata": {
        "id": "zD7Q3UX6y92p"
      },
      "execution_count": null,
      "outputs": []
    },
    {
      "cell_type": "code",
      "source": [],
      "metadata": {
        "id": "GeyCIB5TzXf5"
      },
      "execution_count": null,
      "outputs": []
    },
    {
      "cell_type": "markdown",
      "source": [
        "#2 Data Visualization"
      ],
      "metadata": {
        "id": "BZpFkQBeV3_Y"
      }
    },
    {
      "cell_type": "markdown",
      "source": [
        "##2.1 Regression Line Plot"
      ],
      "metadata": {
        "id": "_waj30dTbrQC"
      }
    },
    {
      "cell_type": "code",
      "source": [
        "# PM 2.5 and AQI Value\n",
        "\n"
      ],
      "metadata": {
        "id": "kDPcyWdjV8mj"
      },
      "execution_count": null,
      "outputs": []
    },
    {
      "cell_type": "code",
      "source": [
        "# CO AQI and AQI Value\n",
        "\n"
      ],
      "metadata": {
        "id": "c9QD0olIV9dI"
      },
      "execution_count": null,
      "outputs": []
    },
    {
      "cell_type": "code",
      "source": [
        "# Ozon AQI and AQI Value\n",
        "\n"
      ],
      "metadata": {
        "id": "uowVwT3PV9d0"
      },
      "execution_count": null,
      "outputs": []
    },
    {
      "cell_type": "code",
      "source": [
        "# NO2 AQI and AQI Value\n",
        "\n"
      ],
      "metadata": {
        "id": "qt1Yai7jV9gi"
      },
      "execution_count": null,
      "outputs": []
    },
    {
      "cell_type": "markdown",
      "source": [
        "##2.2 Correlation Heatmap"
      ],
      "metadata": {
        "id": "Ic-gdJuMb9UM"
      }
    },
    {
      "cell_type": "code",
      "source": [
        "\n"
      ],
      "metadata": {
        "id": "EKdDOyX8b9gp"
      },
      "execution_count": null,
      "outputs": []
    },
    {
      "cell_type": "markdown",
      "source": [
        "**Interpretation:**"
      ],
      "metadata": {
        "id": "Hw4so9lyiEsZ"
      }
    },
    {
      "cell_type": "markdown",
      "source": [
        "#3.Handling Missing Values"
      ],
      "metadata": {
        "id": "gUNqBMBbxZDC"
      }
    },
    {
      "cell_type": "markdown",
      "source": [
        "Are there any missing values in the dataset?"
      ],
      "metadata": {
        "id": "J3rx5MA5xv62"
      }
    },
    {
      "cell_type": "code",
      "source": [],
      "metadata": {
        "id": "iCzvSEsIxVOX"
      },
      "execution_count": null,
      "outputs": []
    },
    {
      "cell_type": "code",
      "source": [
        "\n"
      ],
      "metadata": {
        "id": "yJTuCz09Ahg7"
      },
      "execution_count": null,
      "outputs": []
    },
    {
      "cell_type": "code",
      "source": [],
      "metadata": {
        "id": "orWOJrAxDU5d"
      },
      "execution_count": null,
      "outputs": []
    },
    {
      "cell_type": "markdown",
      "source": [
        "#4.Feature Selection"
      ],
      "metadata": {
        "id": "djLqCZgyArdx"
      }
    },
    {
      "cell_type": "code",
      "source": [
        "# Features\n",
        "\n",
        "\n",
        "# Target\n",
        "\n"
      ],
      "metadata": {
        "id": "WsJUg6nmWKka"
      },
      "execution_count": null,
      "outputs": []
    },
    {
      "cell_type": "markdown",
      "source": [
        "#5.Data Splitting"
      ],
      "metadata": {
        "id": "0TqO-kUmkniL"
      }
    },
    {
      "cell_type": "code",
      "source": [
        "\n"
      ],
      "metadata": {
        "id": "3aNSQv7EWKv5"
      },
      "execution_count": null,
      "outputs": []
    },
    {
      "cell_type": "markdown",
      "source": [
        "#6.Training Model Using Linear Regression"
      ],
      "metadata": {
        "id": "5rhu-2K3k2FR"
      }
    },
    {
      "cell_type": "code",
      "source": [
        "\n",
        "\n",
        "\n",
        "\n",
        "\n"
      ],
      "metadata": {
        "id": "4asD0NuYkz17"
      },
      "execution_count": null,
      "outputs": []
    },
    {
      "cell_type": "markdown",
      "source": [
        "#7.Model Evaluation"
      ],
      "metadata": {
        "id": "4OoV_Wthlzos"
      }
    },
    {
      "cell_type": "code",
      "source": [
        "\n",
        "\n",
        "\n",
        "\n"
      ],
      "metadata": {
        "id": "QY94bUY0k_ke"
      },
      "execution_count": null,
      "outputs": []
    },
    {
      "cell_type": "markdown",
      "source": [
        "**Interpretation:**\n",
        "\n"
      ],
      "metadata": {
        "id": "qGj4ZxrGl9ES"
      }
    },
    {
      "cell_type": "markdown",
      "source": [
        "#8.Pollution Predictor"
      ],
      "metadata": {
        "id": "XLEyD6_LmCNe"
      }
    },
    {
      "cell_type": "code",
      "source": [],
      "metadata": {
        "id": "Dp9PCwq7l1i4"
      },
      "execution_count": null,
      "outputs": []
    },
    {
      "cell_type": "code",
      "source": [
        "# Run the function\n"
      ],
      "metadata": {
        "id": "stGixHocpems"
      },
      "execution_count": null,
      "outputs": []
    }
  ]
}