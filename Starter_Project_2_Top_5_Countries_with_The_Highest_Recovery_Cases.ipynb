{
  "nbformat": 4,
  "nbformat_minor": 0,
  "metadata": {
    "colab": {
      "provenance": [],
      "authorship_tag": "ABX9TyO1LBwmArCbbh/vNTZeqo2A",
      "include_colab_link": true
    },
    "kernelspec": {
      "name": "python3",
      "display_name": "Python 3"
    },
    "language_info": {
      "name": "python"
    }
  },
  "cells": [
    {
      "cell_type": "markdown",
      "metadata": {
        "id": "view-in-github",
        "colab_type": "text"
      },
      "source": [
        "<a href=\"https://colab.research.google.com/github/KodingNextFC/FC-AI-Program/blob/main/Starter_Project_2_Top_5_Countries_with_The_Highest_Recovery_Cases.ipynb\" target=\"_parent\"><img src=\"https://colab.research.google.com/assets/colab-badge.svg\" alt=\"Open In Colab\"/></a>"
      ]
    },
    {
      "cell_type": "markdown",
      "source": [
        "#1.Data Understanding"
      ],
      "metadata": {
        "id": "BzajCTi1whuK"
      }
    },
    {
      "cell_type": "markdown",
      "source": [
        "##1.1 Load the Dataset"
      ],
      "metadata": {
        "id": "YrD-XkyRxKmS"
      }
    },
    {
      "cell_type": "markdown",
      "source": [
        "A global COVID dataset updated as of January 22, 2020.\n",
        "\n",
        "Data Source:\n",
        "\n",
        "https://github.com/CSSEGISandData/COVID-19\n",
        "\n",
        "https://www.worldometers.info/"
      ],
      "metadata": {
        "id": "quHJKUv-6fQE"
      }
    },
    {
      "cell_type": "code",
      "source": [
        "import pandas as pd\n",
        "url = \"https://drive.google.com/uc?export=download&id=1bIOL8GlNxfK3_MM-e_XHrs0DdlQWOFgP\"\n",
        "df = pd.read_csv(url)\n",
        "df.head(5)"
      ],
      "metadata": {
        "id": "64vZiZ-xwkjo"
      },
      "execution_count": null,
      "outputs": []
    },
    {
      "cell_type": "markdown",
      "source": [
        "##1.2 Features (Columns)"
      ],
      "metadata": {
        "id": "KneRvG9wxQ0i"
      }
    },
    {
      "cell_type": "markdown",
      "source": [
        "What are the features (columns) of the dataset?"
      ],
      "metadata": {
        "id": "9CHIf0zfxeqr"
      }
    },
    {
      "cell_type": "code",
      "source": [
        "#Column list"
      ],
      "metadata": {
        "id": "L1spK_fQxQL2"
      },
      "execution_count": null,
      "outputs": []
    },
    {
      "cell_type": "markdown",
      "source": [
        "##1.3 Data Info"
      ],
      "metadata": {
        "id": "4Q7wBqbUy9Ne"
      }
    },
    {
      "cell_type": "markdown",
      "source": [
        "What is the shape of the dataset, how many rows does it have, and what are the data types of the columns?"
      ],
      "metadata": {
        "id": "scOQ5CM2y9uC"
      }
    },
    {
      "cell_type": "code",
      "source": [
        "#Shape of the dataset"
      ],
      "metadata": {
        "id": "zD7Q3UX6y92p"
      },
      "execution_count": null,
      "outputs": []
    },
    {
      "cell_type": "code",
      "source": [
        "#Dataset Info"
      ],
      "metadata": {
        "id": "GeyCIB5TzXf5"
      },
      "execution_count": null,
      "outputs": []
    },
    {
      "cell_type": "markdown",
      "source": [
        "##1.4 Missing Values"
      ],
      "metadata": {
        "id": "gUNqBMBbxZDC"
      }
    },
    {
      "cell_type": "markdown",
      "source": [
        "Are there any missing values in the dataset?"
      ],
      "metadata": {
        "id": "J3rx5MA5xv62"
      }
    },
    {
      "cell_type": "code",
      "source": [
        "#Sum of Missing Values"
      ],
      "metadata": {
        "id": "iCzvSEsIxVOX"
      },
      "execution_count": null,
      "outputs": []
    },
    {
      "cell_type": "markdown",
      "source": [
        "#2.Data Analysis and Visualization"
      ],
      "metadata": {
        "id": "xCAaTS6ay1Vk"
      }
    },
    {
      "cell_type": "markdown",
      "source": [
        "Please answer all the questions below to help guide you through analyzing COVID-19 data worldwide as of January 22, 2020. These questions are designed to help you understand key trends, patterns, and insights, with a focus on COVID-19."
      ],
      "metadata": {
        "id": "BO1xh2sE5-tO"
      }
    },
    {
      "cell_type": "markdown",
      "source": [
        "##2.2 Top 5 Countries with The Highest Recovery Cases\n",
        "\n"
      ],
      "metadata": {
        "id": "xuyZjqIK-1LG"
      }
    },
    {
      "cell_type": "markdown",
      "source": [
        "1. Sorts the data in descending order of recoveries (Recovered) and retrieves the top 5 countries using .head(5).\n",
        "\n",
        "2. Create a barplot using sns.barplot and highlight the highest recovery country using green color."
      ],
      "metadata": {
        "id": "F04NQx4UC1nb"
      }
    },
    {
      "cell_type": "code",
      "source": [
        "# Step 1: Import required libraries\n",
        "\n",
        "# Step 2: Prepare the dataset (assuming `df` contains 'Country/Region' and 'Recovered')\n",
        "top_5_recovered =\n",
        "\n",
        "# Step 3: Print top 5 countries\n",
        "\n",
        "\n",
        "# Step 4: Set up the plot size\n",
        "\n",
        "\n",
        "# Step 5: Prepare data for plotting\n",
        "\n",
        "\n",
        "# Step 6: Create bar plot with color 'gray'\n",
        "\n",
        "\n",
        "# Step 7: Highlight the maximum recovery bar\n",
        "\n",
        "\n",
        "# Step 8: Customize and display the plot\n",
        "\n"
      ],
      "metadata": {
        "id": "GpxqsmT9xcXy"
      },
      "execution_count": null,
      "outputs": []
    }
  ]
}