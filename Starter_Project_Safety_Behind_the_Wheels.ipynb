{
  "nbformat": 4,
  "nbformat_minor": 0,
  "metadata": {
    "colab": {
      "provenance": []
    },
    "kernelspec": {
      "name": "python3",
      "display_name": "Python 3"
    },
    "language_info": {
      "name": "python"
    }
  },
  "cells": [
    {
      "cell_type": "markdown",
      "source": [
        "# Dataset"
      ],
      "metadata": {
        "id": "dmDSpo6JDjRy"
      }
    },
    {
      "cell_type": "markdown",
      "source": [
        "## Import Libraries"
      ],
      "metadata": {
        "id": "2MU22hK5hLhT"
      }
    },
    {
      "cell_type": "code",
      "execution_count": null,
      "metadata": {
        "id": "Lof-gRuDDMQD"
      },
      "outputs": [],
      "source": [
        "import pandas as pd"
      ]
    },
    {
      "cell_type": "markdown",
      "source": [
        "## Load the Dataset"
      ],
      "metadata": {
        "id": "-vZ8KT9EDoMI"
      }
    },
    {
      "cell_type": "code",
      "source": [
        "url = \"https://drive.google.com/uc?export=download&id=1xoNhU-QjTp30RpTPKWxhf358Sp-eU83Y\"\n",
        "df = pd.read_csv(url)\n",
        "#df.head(20)\n",
        "#df.tail(5)\n",
        "#df.sample(10)"
      ],
      "metadata": {
        "id": "Ct0dIihUK57N"
      },
      "execution_count": null,
      "outputs": []
    },
    {
      "cell_type": "markdown",
      "source": [
        "## Feature Descriptions\n",
        "\n",
        "\n",
        "\n"
      ],
      "metadata": {
        "id": "eKXTsg9CDrtZ"
      }
    },
    {
      "cell_type": "markdown",
      "source": [
        "\n",
        "Context\n",
        "\n",
        "> This data set is collected from Addis Ababa Sub city police departments for Masters research work.\n",
        "\n",
        "\n",
        "Content\n",
        "\n",
        "> The data set has been prepared from manual records of road traffic accident of the year 2017-20. All the sensitive information have been excluded during data encoding and finally it has 32 features and 12316 instances of the accident. Then it is preprocessed and for identification of major causes of the accident by analyzing it using different machine learning classification algorithms algorithms.\n",
        "\n",
        "\n",
        "\n"
      ],
      "metadata": {
        "id": "LPCWbkA6NLFU"
      }
    },
    {
      "cell_type": "markdown",
      "source": [
        "Features Description\n",
        "\n",
        ">Age_band_of_driver: Groups drivers by age.\n",
        "\n",
        "> Sex_of_driver: Indicates driver's gender.\n",
        "\n",
        "> Educational_level: Records driver's education level.\n",
        "\n",
        "> Vehicle_driver_relation: Defines driver-vehicle relationship.\n",
        "\n",
        "> Driving_experience: Captures years of driving experience.\n",
        "\n",
        "> Lanes_or_Medians: Specifies if lanes or medians are present.\n",
        "\n",
        "> Types_of_Junction: Describes type of junction.\n",
        "\n",
        "> Road_surface_type: Identifies road surface type.\n",
        "\n",
        "> Light_conditions: Records lighting conditions.\n",
        "\n",
        "> Weather_conditions: Describes weather during the accident.\n",
        "\n",
        "> Type_of_collision: Categorizes collision type.\n",
        "\n",
        "> Vehicle_movement: Describes vehicle movement.\n",
        "\n",
        "> Pedestrian_movement: Indicates pedestrian movement.\n",
        "\n",
        "> Cause_of_accident: Lists cause of the accident.\n",
        "\n",
        "> Accident_severity: Rates accident severity as 0, 1, or 2, where higher numbers indicate more severity."
      ],
      "metadata": {
        "id": "c7fPaOJkfi5x"
      }
    },
    {
      "cell_type": "markdown",
      "source": [
        "# Mission 1: Who's on The Road?"
      ],
      "metadata": {
        "id": "IzfETOsxbD1W"
      }
    },
    {
      "cell_type": "markdown",
      "source": [
        "Please answer all the questions below to help guide you through analyzing the road traffic accident data. These questions are designed to help you understand key trends, patterns, and insights, focusing specifically on the factors contributing to accidents and their severity."
      ],
      "metadata": {
        "id": "WcClSt35yIns"
      }
    },
    {
      "cell_type": "markdown",
      "source": [
        "## What column will you use to answer Mission 1's question?\n",
        "Let's find out the columns list in our dataset."
      ],
      "metadata": {
        "id": "blM4ZqpFuHEc"
      }
    },
    {
      "cell_type": "code",
      "source": [
        "df.columns"
      ],
      "metadata": {
        "id": "k5nK5imCbJbY"
      },
      "execution_count": null,
      "outputs": []
    },
    {
      "cell_type": "code",
      "source": [
        "# value_counts() in pandas counts unique values in a column and sorts them by frequency.\n"
      ],
      "metadata": {
        "id": "8ypjVWGYubql"
      },
      "execution_count": null,
      "outputs": []
    },
    {
      "cell_type": "markdown",
      "source": [
        "## Who has more accidents, men or women?"
      ],
      "metadata": {
        "id": "fFK9WgaAvUK4"
      }
    },
    {
      "cell_type": "code",
      "source": [
        "#Your answer here\n"
      ],
      "metadata": {
        "id": "68zG8AHPvLQ9"
      },
      "execution_count": null,
      "outputs": []
    },
    {
      "cell_type": "markdown",
      "source": [
        "# Mission 2: What Happens After Dark?"
      ],
      "metadata": {
        "id": "eMr2SMigv7O3"
      }
    },
    {
      "cell_type": "markdown",
      "source": [
        "## Do accidents happen more during the day or night?"
      ],
      "metadata": {
        "id": "7L_cxgVG0rBB"
      }
    },
    {
      "cell_type": "code",
      "source": [
        "#Your answer here\n"
      ],
      "metadata": {
        "id": "sGAR1wq8v_7T"
      },
      "execution_count": null,
      "outputs": []
    },
    {
      "cell_type": "markdown",
      "source": [
        "## What percentage of accidents occur during daylight?"
      ],
      "metadata": {
        "id": "YF-Aa2v5026V"
      }
    },
    {
      "cell_type": "code",
      "source": [
        "#Your answer here\n"
      ],
      "metadata": {
        "id": "387FgjAH1E3g"
      },
      "execution_count": null,
      "outputs": []
    },
    {
      "cell_type": "markdown",
      "source": [
        "# Mission 3: When Weather Goes Wild."
      ],
      "metadata": {
        "id": "GnwhjZA8jRCy"
      }
    },
    {
      "cell_type": "markdown",
      "source": [
        "## Does weather play a big role in road traffic accidents?"
      ],
      "metadata": {
        "id": "pKJlbS69klNe"
      }
    },
    {
      "cell_type": "code",
      "source": [
        "#Your answer here\n"
      ],
      "metadata": {
        "id": "OyaNlCjpjSBP"
      },
      "execution_count": null,
      "outputs": []
    },
    {
      "cell_type": "markdown",
      "source": [
        "## Which abnormal weather condition is the most significant contributor to accidents?"
      ],
      "metadata": {
        "id": "VMr0dXBX4E9g"
      }
    },
    {
      "cell_type": "code",
      "source": [
        "#Your answer here\n"
      ],
      "metadata": {
        "id": "oC7PsD7z4H40"
      },
      "execution_count": null,
      "outputs": []
    },
    {
      "cell_type": "markdown",
      "source": [
        "# Mission 4: How Bad Is It? 🚑"
      ],
      "metadata": {
        "id": "FMY1HR0MjSvj"
      }
    },
    {
      "cell_type": "markdown",
      "source": [
        "## Which weather conditions have the highest percentage of accident severity (2)?"
      ],
      "metadata": {
        "id": "dintakAJp9we"
      }
    },
    {
      "cell_type": "code",
      "source": [
        "#Your answer here\n"
      ],
      "metadata": {
        "id": "uO3gRtjBmAGW"
      },
      "execution_count": null,
      "outputs": []
    },
    {
      "cell_type": "markdown",
      "source": [
        "# Challenge: Missing Values"
      ],
      "metadata": {
        "id": "nMFpm_kqjcNp"
      }
    },
    {
      "cell_type": "markdown",
      "source": [
        "## Are there any missing values in the dataset?"
      ],
      "metadata": {
        "id": "-wVarRFuspRs"
      }
    },
    {
      "cell_type": "code",
      "source": [
        "df.isnull()"
      ],
      "metadata": {
        "id": "TNlmtejljegm"
      },
      "execution_count": null,
      "outputs": []
    },
    {
      "cell_type": "code",
      "source": [
        "df.isnull().sum()"
      ],
      "metadata": {
        "id": "f6XbwFIQqZoK"
      },
      "execution_count": null,
      "outputs": []
    },
    {
      "cell_type": "markdown",
      "source": [
        "## How about 'Unknown' values in the dataset? Are they considered missing values?"
      ],
      "metadata": {
        "id": "n2Mz5y_Hs0GF"
      }
    },
    {
      "cell_type": "code",
      "source": [
        "df['Age_band_of_driver'].value_counts()"
      ],
      "metadata": {
        "id": "lJTjwkJTqel0"
      },
      "execution_count": null,
      "outputs": []
    },
    {
      "cell_type": "code",
      "source": [
        "columns = df.columns\n",
        "#Use a for loop to find all the 'Unknown' values throughout the entire dataset.\n",
        "#Your answer here"
      ],
      "metadata": {
        "id": "VDNv1s8YrMtC"
      },
      "execution_count": null,
      "outputs": []
    }
  ]
}